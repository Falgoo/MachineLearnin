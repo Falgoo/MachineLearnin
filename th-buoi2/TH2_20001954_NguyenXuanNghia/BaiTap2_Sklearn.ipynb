{
 "cells": [
  {
   "attachments": {},
   "cell_type": "markdown",
   "metadata": {},
   "source": [
    "## Import librarylibrary"
   ]
  },
  {
   "cell_type": "code",
   "execution_count": 1,
   "metadata": {},
   "outputs": [],
   "source": [
    "import numpy as np\n",
    "from sklearn import linear_model"
   ]
  },
  {
   "attachments": {},
   "cell_type": "markdown",
   "metadata": {},
   "source": [
    "## Read data and split to train data and test data"
   ]
  },
  {
   "cell_type": "code",
   "execution_count": 2,
   "metadata": {},
   "outputs": [
    {
     "name": "stdout",
     "output_type": "stream",
     "text": [
      "\n",
      " test-data :  [[49.0, 24.0, 140.0, 4.3, 5.5], [36.0, 23.0, 140.0, 4.3, 4.2], [74.0, 21.0, 140.0, 17.0, 3.3], [53.0, 21.0, 140.0, 5.6, 5.9], [56.0, 19.0, 140.0, 4.1, 4.73], [60.0, 20.0, 160.0, 4.9, 3.0], [83.0, 21.0, 120.0, 7.9, 5.88], [68.0, 23.0, 130.0, 4.0, 5.39], [69.0, 19.0, 100.0, 4.4, 6.15], [31.0, 21.0, 120.0, 4.1, 3.94], [34.0, 21.0, 140.0, 6.7, 3.83], [41.0, 20.0, 120.0, 2.7, 4.93], [72.0, 22.0, 160.0, 6.4, 7.0], [54.0, 22.0, 170.0, 6.2, 8.18], [54.0, 28.0, 150.0, 4.2, 8.16], [55.0, 24.0, 160.0, 5.0, 7.2], [76.0, 15.0, 140.0, 3.1, 5.24], [70.0, 25.0, 180.0, 4.0, 4.4], [85.0, 21.0, 160.0, 5.2, 5.2], [87.0, 22.0, 130.0, 9.0, 5.2]]\n",
      "\n",
      " test-label :  [0.8, 0.7, 1.0, 0.8, 0.89, 0.6, 1.5, 0.7, 1.1, 0.81, 0.7, 0.71, 2.7, 1.13, 1.7, 0.9, 1.16, 1.0, 0.97, 2.3]\n",
      "\n",
      " train-data :  [[56.0, 21.0, 160.0, 14.0, 6.0], [76.0, 18.0, 150.0, 12.0, 4.97], [63.0, 16.0, 160.0, 4.4, 6.39], [78.0, 20.0, 100.0, 4.0, 7.0], [87.0, 20.0, 110.0, 4.6, 4.1], [76.0, 19.0, 150.0, 4.6, 2.74], [55.0, 31.0, 160.0, 5.5, 4.6], [74.0, 22.0, 100.0, 6.8, 5.04], [81.0, 21.0, 120.0, 5.8, 4.75], [77.0, 24.0, 160.0, 5.4, 6.94], [29.0, 20.0, 120.0, 3.8, 4.84], [71.0, 22.0, 160.0, 3.3, 6.63], [77.0, 21.0, 160.0, 5.1, 4.93], [59.0, 18.0, 150.0, 6.0, 4.55], [58.0, 27.0, 130.0, 6.9, 6.7], [34.0, 19.0, 130.0, 4.5, 3.2], [74.0, 22.0, 100.0, 10.6, 4.3], [61.0, 19.0, 170.0, 18.0, 6.8], [53.0, 20.0, 130.0, 25.0, 5.5], [65.0, 28.0, 140.0, 6.5, 6.8], [80.0, 19.0, 160.0, 4.8, 5.74], [71.0, 25.0, 160.0, 6.2, 6.9], [90.0, 24.0, 160.0, 4.7, 7.0], [44.0, 24.0, 120.0, 6.0, 3.4], [91.0, 27.0, 150.0, 6.1, 4.92], [75.0, 22.0, 160.0, 6.2, 6.08], [60.0, 24.0, 140.0, 4.7, 6.25], [51.0, 22.0, 150.0, 4.8, 5.4], [91.0, 29.0, 120.0, 4.2, 6.54], [45.0, 24.0, 170.0, 4.9, 3.91], [62.0, 24.0, 140.0, 5.4, 5.3], [65.0, 19.0, 150.0, 12.0, 2.6], [70.0, 22.0, 160.0, 3.6, 6.85], [56.0, 27.0, 150.0, 5.7, 3.75], [51.0, 19.0, 120.0, 4.7, 5.84], [75.0, 18.0, 140.0, 10.1, 6.91], [58.0, 32.0, 160.0, 4.7, 5.01], [61.0, 19.0, 160.0, 5.2, 4.0], [72.0, 18.0, 120.0, 22.2, 4.88], [82.0, 25.0, 90.0, 8.2, 4.2], [95.0, 24.0, 120.0, 11.0, 4.47], [56.0, 21.0, 160.0, 4.9, 6.9], [36.0, 28.0, 130.0, 4.5, 4.71], [67.0, 18.0, 100.0, 5.5, 5.7], [64.0, 22.0, 130.0, 6.2, 3.0], [81.0, 22.0, 140.0, 5.0, 5.06], [46.0, 22.0, 160.0, 3.3, 4.61], [56.0, 22.0, 150.0, 4.1, 4.15], [60.0, 24.0, 140.0, 7.1, 5.3], [35.0, 19.0, 120.0, 7.4, 4.1], [55.0, 21.0, 160.0, 5.4, 3.0], [70.0, 20.0, 150.0, 6.2, 2.57], [64.0, 23.0, 130.0, 5.7, 6.78], [64.0, 19.0, 160.0, 5.9, 5.62], [58.0, 27.0, 160.0, 26.0, 8.07], [73.0, 23.0, 140.0, 5.6, 3.0], [41.0, 24.0, 110.0, 10.0, 3.31], [74.0, 23.0, 100.0, 5.3, 4.73], [21.0, 23.0, 160.0, 5.0, 4.0], [67.0, 25.0, 150.0, 3.5, 3.6], [57.0, 23.0, 140.0, 6.4, 5.3], [69.0, 21.0, 120.0, 7.6, 6.0], [53.0, 34.0, 140.0, 8.1, 6.49], [58.0, 23.0, 160.0, 9.0, 7.0], [54.0, 29.0, 130.0, 6.4, 7.48], [49.0, 17.0, 130.0, 6.3, 5.19], [59.0, 22.0, 140.0, 7.0, 3.0], [65.0, 23.0, 150.0, 5.9, 6.7], [42.0, 22.0, 150.0, 3.9, 7.0], [75.0, 24.0, 100.0, 6.4, 6.6], [72.0, 21.0, 140.0, 11.0, 5.75], [82.0, 24.0, 190.0, 18.0, 4.7], [70.0, 18.0, 160.0, 3.3, 4.61], [42.0, 24.0, 160.0, 6.0, 6.3], [32.0, 19.0, 140.0, 4.0, 2.0], [61.0, 21.0, 140.0, 5.2, 2.5], [60.0, 26.0, 130.0, 11.3, 4.79], [76.0, 19.0, 160.0, 5.1, 5.31], [78.0, 27.0, 120.0, 4.9, 3.8], [71.0, 26.0, 150.0, 6.6, 7.13]]\n",
      "\n",
      " train-label [1.95, 1.33, 0.83, 2.0, 1.3, 1.16, 1.0, 1.0, 0.8, 1.6, 0.65, 1.0, 0.97, 0.73, 1.1, 1.1, 1.1, 0.8, 0.99, 1.0, 1.13, 1.0, 1.7, 0.9, 0.89, 0.8, 0.81, 1.2, 0.82, 0.89, 1.19, 0.97, 0.97, 0.97, 0.88, 0.97, 0.9, 0.89, 0.8, 1.13, 1.2, 0.9, 0.81, 0.8, 0.74, 2.66, 0.89, 0.79, 0.8, 0.56, 0.8, 1.2, 0.82, 0.9, 1.0, 1.15, 1.16, 0.97, 0.8, 1.67, 1.06, 1.1, 0.8, 1.7, 0.99, 1.16, 0.62, 1.0, 0.82, 1.0, 1.7, 2.3, 0.89, 0.97, 0.7, 1.1, 1.01, 1.15, 0.92, 1.1]\n"
     ]
    }
   ],
   "source": [
    "def read_data(path):\n",
    "    with open(path) as f:\n",
    "        content = f.readlines()\n",
    "    content = [x.strip() for x in content]\n",
    "\n",
    "    data = [[float(y) for y in x.split(' ')] for x in content if x[0] != \"I\"]\n",
    "\n",
    "    # remove ID attribute out of data\n",
    "    data = [ele[1:] for ele in data]\n",
    "\n",
    "    train_data = data[:80]\n",
    "    train_label = [ele.pop() for ele in train_data]\n",
    "\n",
    "    test_data = data[80:]\n",
    "    test_label = [ele.pop() for ele in test_data]\n",
    "\n",
    "    return train_data, train_label, test_data, test_label\n",
    "\n",
    "path =\"./vidu4_lin_reg.txt\"\n",
    "train_data, train_label, test_data, test_label = read_data(path)\n",
    "\n",
    "print(\"\\n test-data : \",test_data)\n",
    "print(\"\\n test-label : \",test_label)\n",
    "print(\"\\n train-data : \",train_data)\n",
    "print(\"\\n train-label\",train_label)\n"
   ]
  },
  {
   "attachments": {},
   "cell_type": "markdown",
   "metadata": {},
   "source": [
    "## Fitting model"
   ]
  },
  {
   "cell_type": "code",
   "execution_count": 3,
   "metadata": {},
   "outputs": [
    {
     "data": {
      "text/html": [
       "<style>#sk-container-id-1 {color: black;background-color: white;}#sk-container-id-1 pre{padding: 0;}#sk-container-id-1 div.sk-toggleable {background-color: white;}#sk-container-id-1 label.sk-toggleable__label {cursor: pointer;display: block;width: 100%;margin-bottom: 0;padding: 0.3em;box-sizing: border-box;text-align: center;}#sk-container-id-1 label.sk-toggleable__label-arrow:before {content: \"▸\";float: left;margin-right: 0.25em;color: #696969;}#sk-container-id-1 label.sk-toggleable__label-arrow:hover:before {color: black;}#sk-container-id-1 div.sk-estimator:hover label.sk-toggleable__label-arrow:before {color: black;}#sk-container-id-1 div.sk-toggleable__content {max-height: 0;max-width: 0;overflow: hidden;text-align: left;background-color: #f0f8ff;}#sk-container-id-1 div.sk-toggleable__content pre {margin: 0.2em;color: black;border-radius: 0.25em;background-color: #f0f8ff;}#sk-container-id-1 input.sk-toggleable__control:checked~div.sk-toggleable__content {max-height: 200px;max-width: 100%;overflow: auto;}#sk-container-id-1 input.sk-toggleable__control:checked~label.sk-toggleable__label-arrow:before {content: \"▾\";}#sk-container-id-1 div.sk-estimator input.sk-toggleable__control:checked~label.sk-toggleable__label {background-color: #d4ebff;}#sk-container-id-1 div.sk-label input.sk-toggleable__control:checked~label.sk-toggleable__label {background-color: #d4ebff;}#sk-container-id-1 input.sk-hidden--visually {border: 0;clip: rect(1px 1px 1px 1px);clip: rect(1px, 1px, 1px, 1px);height: 1px;margin: -1px;overflow: hidden;padding: 0;position: absolute;width: 1px;}#sk-container-id-1 div.sk-estimator {font-family: monospace;background-color: #f0f8ff;border: 1px dotted black;border-radius: 0.25em;box-sizing: border-box;margin-bottom: 0.5em;}#sk-container-id-1 div.sk-estimator:hover {background-color: #d4ebff;}#sk-container-id-1 div.sk-parallel-item::after {content: \"\";width: 100%;border-bottom: 1px solid gray;flex-grow: 1;}#sk-container-id-1 div.sk-label:hover label.sk-toggleable__label {background-color: #d4ebff;}#sk-container-id-1 div.sk-serial::before {content: \"\";position: absolute;border-left: 1px solid gray;box-sizing: border-box;top: 0;bottom: 0;left: 50%;z-index: 0;}#sk-container-id-1 div.sk-serial {display: flex;flex-direction: column;align-items: center;background-color: white;padding-right: 0.2em;padding-left: 0.2em;position: relative;}#sk-container-id-1 div.sk-item {position: relative;z-index: 1;}#sk-container-id-1 div.sk-parallel {display: flex;align-items: stretch;justify-content: center;background-color: white;position: relative;}#sk-container-id-1 div.sk-item::before, #sk-container-id-1 div.sk-parallel-item::before {content: \"\";position: absolute;border-left: 1px solid gray;box-sizing: border-box;top: 0;bottom: 0;left: 50%;z-index: -1;}#sk-container-id-1 div.sk-parallel-item {display: flex;flex-direction: column;z-index: 1;position: relative;background-color: white;}#sk-container-id-1 div.sk-parallel-item:first-child::after {align-self: flex-end;width: 50%;}#sk-container-id-1 div.sk-parallel-item:last-child::after {align-self: flex-start;width: 50%;}#sk-container-id-1 div.sk-parallel-item:only-child::after {width: 0;}#sk-container-id-1 div.sk-dashed-wrapped {border: 1px dashed gray;margin: 0 0.4em 0.5em 0.4em;box-sizing: border-box;padding-bottom: 0.4em;background-color: white;}#sk-container-id-1 div.sk-label label {font-family: monospace;font-weight: bold;display: inline-block;line-height: 1.2em;}#sk-container-id-1 div.sk-label-container {text-align: center;}#sk-container-id-1 div.sk-container {/* jupyter's `normalize.less` sets `[hidden] { display: none; }` but bootstrap.min.css set `[hidden] { display: none !important; }` so we also need the `!important` here to be able to override the default hidden behavior on the sphinx rendered scikit-learn.org. See: https://github.com/scikit-learn/scikit-learn/issues/21755 */display: inline-block !important;position: relative;}#sk-container-id-1 div.sk-text-repr-fallback {display: none;}</style><div id=\"sk-container-id-1\" class=\"sk-top-container\"><div class=\"sk-text-repr-fallback\"><pre>LinearRegression()</pre><b>In a Jupyter environment, please rerun this cell to show the HTML representation or trust the notebook. <br />On GitHub, the HTML representation is unable to render, please try loading this page with nbviewer.org.</b></div><div class=\"sk-container\" hidden><div class=\"sk-item\"><div class=\"sk-estimator sk-toggleable\"><input class=\"sk-toggleable__control sk-hidden--visually\" id=\"sk-estimator-id-1\" type=\"checkbox\" checked><label for=\"sk-estimator-id-1\" class=\"sk-toggleable__label sk-toggleable__label-arrow\">LinearRegression</label><div class=\"sk-toggleable__content\"><pre>LinearRegression()</pre></div></div></div></div></div>"
      ],
      "text/plain": [
       "LinearRegression()"
      ]
     },
     "execution_count": 3,
     "metadata": {},
     "output_type": "execute_result"
    }
   ],
   "source": [
    "regr = linear_model.LinearRegression()\n",
    "regr.fit(train_data, train_label)"
   ]
  },
  {
   "attachments": {},
   "cell_type": "markdown",
   "metadata": {},
   "source": [
    "## Predict test data and calculate SSE"
   ]
  },
  {
   "cell_type": "code",
   "execution_count": 4,
   "metadata": {},
   "outputs": [
    {
     "name": "stdout",
     "output_type": "stream",
     "text": [
      "Regression coef:\n",
      "\n",
      "                 Age: 0.008989196889296783\n",
      "         Cholesterol: -0.0004774242218527475\n",
      "             Glucose: 0.0026021798675557734\n",
      "                  HA: 0.00808634223197815\n",
      "                 BMI: 0.007085352341923771\n",
      "\n",
      "y predict:\t [0.91012272 0.78452963 1.22339369 0.96085817 0.96836123 1.05009561\n",
      " 1.19694736 1.0521678  0.9936207  0.68503543 0.78429172 0.77109845\n",
      " 1.19748204 1.06844174 0.99721921 1.03380704 1.14558205 1.19228584\n",
      " 1.29236178 1.26252546]\n"
     ]
    }
   ],
   "source": [
    "y_pre = regr.predict(test_data)\n",
    "\n",
    "print(\"Regression coef:\\n\")\n",
    "line = ['Age', 'Cholesterol', 'Glucose', 'HA', 'BMI']\n",
    "res = list(zip(line, regr.coef_))\n",
    "for o in res:\n",
    "    print(\"{: >20}: {: >10}\".format(*o))\n",
    "print(\"\\ny predict:\\t\",y_pre)\n"
   ]
  },
  {
   "attachments": {},
   "cell_type": "markdown",
   "metadata": {},
   "source": [
    "## Calculate mean and variance of error"
   ]
  },
  {
   "cell_type": "code",
   "execution_count": 6,
   "metadata": {},
   "outputs": [
    {
     "name": "stdout",
     "output_type": "stream",
     "text": [
      "\n",
      "Mean of error is:  0.30532598337436595\n",
      "Variance of error is:  0.13417703555263544\n"
     ]
    }
   ],
   "source": [
    "error = np.abs(test_label - y_pre)\n",
    "mean = np.mean(error)\n",
    "variance = np.var(error)\n",
    "\n",
    "print(\"\\nMean of error is: \", mean)\n",
    "print(\"Variance of error is: \", variance)"
   ]
  }
 ],
 "metadata": {
  "kernelspec": {
   "display_name": "Python 3",
   "language": "python",
   "name": "python3"
  },
  "language_info": {
   "codemirror_mode": {
    "name": "ipython",
    "version": 3
   },
   "file_extension": ".py",
   "mimetype": "text/x-python",
   "name": "python",
   "nbconvert_exporter": "python",
   "pygments_lexer": "ipython3",
   "version": "3.10.10"
  },
  "orig_nbformat": 4,
  "vscode": {
   "interpreter": {
    "hash": "84fd2673a0f847bf80637898000f9b4175f2ffd476d5f31b41a838c2acdb5b76"
   }
  }
 },
 "nbformat": 4,
 "nbformat_minor": 2
}
