{
 "cells": [
  {
   "attachments": {},
   "cell_type": "markdown",
   "metadata": {},
   "source": [
    "# Import library"
   ]
  },
  {
   "cell_type": "code",
   "execution_count": 17,
   "metadata": {},
   "outputs": [],
   "source": [
    "from matplotlib import pyplot as plt\n",
    "import numpy as np # linear algebra\n",
    "import pandas as pd # data processing, CSV file I/O (e.g. pd.read_csv)\n",
    "from sklearn.linear_model import LogisticRegression\n",
    "from sklearn.metrics import confusion_matrix\n",
    "from sklearn.metrics import accuracy_score\n",
    "from sklearn.model_selection import train_test_split"
   ]
  },
  {
   "attachments": {},
   "cell_type": "markdown",
   "metadata": {},
   "source": [
    "# Read data"
   ]
  },
  {
   "cell_type": "code",
   "execution_count": 18,
   "metadata": {},
   "outputs": [
    {
     "name": "stdout",
     "output_type": "stream",
     "text": [
      "<class 'pandas.core.frame.DataFrame'>\n",
      "RangeIndex: 214 entries, 0 to 213\n",
      "Data columns (total 11 columns):\n",
      " #   Column     Non-Null Count  Dtype  \n",
      "---  ------     --------------  -----  \n",
      " 0   Id_Number  214 non-null    int64  \n",
      " 1   RI         214 non-null    float64\n",
      " 2   Na         214 non-null    float64\n",
      " 3   Mg         214 non-null    float64\n",
      " 4   Al         214 non-null    float64\n",
      " 5   Si         214 non-null    float64\n",
      " 6   K          214 non-null    float64\n",
      " 7   Ca         214 non-null    float64\n",
      " 8   Ba         214 non-null    float64\n",
      " 9   Fe         214 non-null    float64\n",
      " 10  Type       214 non-null    int64  \n",
      "dtypes: float64(9), int64(2)\n",
      "memory usage: 18.5 KB\n",
      "None\n",
      "[1 2 3 5 6 7]\n",
      "2    76\n",
      "1    70\n",
      "7    29\n",
      "3    17\n",
      "5    13\n",
      "6     9\n",
      "Name: Type, dtype: int64\n"
     ]
    }
   ],
   "source": [
    "# change file_data to where did you put it!\n",
    "file_data = './glass.csv'\n",
    "glass_df = pd.read_csv(file_data)\n",
    "print(glass_df.info())\n",
    "glass_types = glass_df['Type'].unique()\n",
    "print(glass_types)\n",
    "print(glass_df['Type'].value_counts())\n",
    "X_1 = glass_df[glass_df.columns[:-1]]\n",
    "y_1 = glass_df['Type']\n",
    "\n",
    "X_train, X_test, y_train, y_test = train_test_split(X_1, y_1,test_size=0.25, random_state=42)"
   ]
  },
  {
   "attachments": {},
   "cell_type": "markdown",
   "metadata": {},
   "source": [
    "# Fitting model"
   ]
  },
  {
   "cell_type": "code",
   "execution_count": 22,
   "metadata": {},
   "outputs": [
    {
     "name": "stdout",
     "output_type": "stream",
     "text": [
      "Accuracy score of test 1.0\n",
      "Accuracy score of train 0.99375\n",
      "Confuse matrix\n",
      " [[14  0  0  0  0  0]\n",
      " [ 0 21  0  0  0  0]\n",
      " [ 0  0  4  0  0  0]\n",
      " [ 0  0  0  4  0  0]\n",
      " [ 0  0  0  0  3  0]\n",
      " [ 0  0  0  0  0  8]]\n"
     ]
    }
   ],
   "source": [
    "# Call to Logistic Regression Model - sag: solving is based on Stochastic Average Gradient\n",
    "lorg=LogisticRegression(multi_class='multinomial',solver='sag', max_iter=5000)\n",
    "# and train model by Training Dataset\n",
    "lorg.fit(X_train, y_train)\n",
    "# Then Predict the Test data\n",
    "Y_pred=lorg.predict(X_test)\n",
    "Y_train_pred = lorg.predict(X_train)\n",
    "# for accuracy\n",
    "print(\"Accuracy score of test\", accuracy_score(y_test,Y_pred))\n",
    "print(\"Accuracy score of train\", accuracy_score(y_train, Y_train_pred))\n",
    "# for confusion matrix\n",
    "cm=confusion_matrix(y_test,Y_pred)\n",
    "print(\"Confuse matrix\\n\", cm)"
   ]
  }
 ],
 "metadata": {
  "kernelspec": {
   "display_name": "Python 3",
   "language": "python",
   "name": "python3"
  },
  "language_info": {
   "codemirror_mode": {
    "name": "ipython",
    "version": 3
   },
   "file_extension": ".py",
   "mimetype": "text/x-python",
   "name": "python",
   "nbconvert_exporter": "python",
   "pygments_lexer": "ipython3",
   "version": "3.10.10"
  },
  "orig_nbformat": 4
 },
 "nbformat": 4,
 "nbformat_minor": 2
}
