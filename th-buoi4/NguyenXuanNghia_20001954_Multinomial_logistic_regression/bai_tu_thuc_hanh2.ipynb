{
 "cells": [
  {
   "attachments": {},
   "cell_type": "markdown",
   "metadata": {},
   "source": [
    "# Import library"
   ]
  },
  {
   "cell_type": "code",
   "execution_count": 21,
   "metadata": {},
   "outputs": [],
   "source": [
    "from sklearn.datasets import fetch_20newsgroups_vectorized\n",
    "import numpy as np\n",
    "from sklearn.model_selection import train_test_split\n",
    "from sklearn.linear_model import LogisticRegression\n",
    "from sklearn.metrics import confusion_matrix\n",
    "from sklearn.metrics import accuracy_score"
   ]
  },
  {
   "attachments": {},
   "cell_type": "markdown",
   "metadata": {},
   "source": [
    "# Read data"
   ]
  },
  {
   "cell_type": "code",
   "execution_count": 22,
   "metadata": {},
   "outputs": [],
   "source": [
    "n_samples = 20000\n",
    "X, y = fetch_20newsgroups_vectorized(subset='all', return_X_y=True)\n",
    "X = X[:n_samples]\n",
    "y = y[:n_samples]\n",
    "X_train, X_test, y_train, y_test = train_test_split(X, y, random_state=42, stratify=y, test_size=0.1)\n",
    "\n",
    "train_samples, n_features = X_train.shape\n",
    "n_classes = np.unique(y).shape[0]"
   ]
  },
  {
   "attachments": {},
   "cell_type": "markdown",
   "metadata": {},
   "source": [
    "# Fitting model and show accuracy and confuse matrix"
   ]
  },
  {
   "attachments": {},
   "cell_type": "markdown",
   "metadata": {},
   "source": [
    "# Model Logistic Regression Model - lbfgs"
   ]
  },
  {
   "cell_type": "code",
   "execution_count": 23,
   "metadata": {},
   "outputs": [
    {
     "name": "stdout",
     "output_type": "stream",
     "text": [
      "Accuracy score 0.823342175066313\n",
      "Confuse matrix\n",
      " [[68  0  0  0  0  0  0  0  0  1  0  1  0  1  0  4  0  2  0  3]\n",
      " [ 0 79  3  1  0  5  2  0  0  0  0  1  1  1  1  1  0  1  0  1]\n",
      " [ 0  5 78  6  1  4  2  0  1  0  0  0  1  0  1  0  0  0  0  0]\n",
      " [ 0  4  8 67  4  1  4  1  1  0  0  1  3  2  0  0  0  1  1  0]\n",
      " [ 0  3  2  8 74  1  2  0  0  0  0  0  3  0  0  1  1  1  0  0]\n",
      " [ 0  4  7  3  1 81  0  1  1  1  0  0  0  0  0  0  0  0  0  0]\n",
      " [ 0  0  0  2  2  2 82  4  0  1  1  1  1  1  0  1  0  0  0  0]\n",
      " [ 0  1  0  0  0  0  2 92  0  0  0  0  1  2  1  0  0  0  0  0]\n",
      " [ 0  0  0  0  1  0  3  6 86  1  0  0  0  1  1  0  0  0  1  0]\n",
      " [ 0  1  0  1  0  1  2  0  0 87  4  0  0  3  0  0  0  0  0  0]\n",
      " [ 0  0  0  0  0  0  4  0  0  3 92  0  0  0  0  0  0  0  1  0]\n",
      " [ 0  2  0  1  1  4  2  0  1  2  1 82  0  0  0  0  2  1  0  0]\n",
      " [ 0  4  0  1  1  1  2  4  0  0  0  0 84  0  1  0  0  0  0  0]\n",
      " [ 0  1  0  0  0  0  3  3  2  1  0  1  1 80  3  1  0  2  1  0]\n",
      " [ 1  1  0  0  1  2  2  0  0  0  0  0  0  3 88  1  0  0  0  0]\n",
      " [ 2  3  0  0  1  3  0  0  0  0  1  0  1  0  0 87  0  1  0  1]\n",
      " [ 0  0  0  0  1  1  0  0  0  1  0  1  3  1  1  0 80  1  1  0]\n",
      " [ 0  0  0  0  0  2  0  0  1  2  0  1  1  1  1  1  0 82  2  0]\n",
      " [ 1  0  0  0  0  0  1  0  1  2  1  0  1  1  1  1 11  1 55  0]\n",
      " [ 7  0  0  0  0  0  0  0  0  0  0  2  1  5  1 14  3  1  1 28]]\n"
     ]
    }
   ],
   "source": [
    "# Call to Logistic Regression Model - lbfgs: solving is based on Stochastic Average Gradient\n",
    "lorg=LogisticRegression(multi_class='multinomial',solver='lbfgs', max_iter=5000)\n",
    "# and train model by Training Dataset\n",
    "lorg.fit(X_train,y_train)\n",
    "# Then Predict the Test data\n",
    "Y_pred=lorg.predict(X_test)\n",
    "# for accuracy\n",
    "print(\"Accuracy score\", accuracy_score(y_test,Y_pred))\n",
    "# for confusion matrix\n",
    "cm=confusion_matrix(y_test,Y_pred)\n",
    "print(\"Confuse matrix\\n\", cm)"
   ]
  },
  {
   "attachments": {},
   "cell_type": "markdown",
   "metadata": {},
   "source": [
    "# Model Logistic Regression Model - SAG"
   ]
  },
  {
   "cell_type": "code",
   "execution_count": 24,
   "metadata": {},
   "outputs": [
    {
     "name": "stdout",
     "output_type": "stream",
     "text": [
      "Accuracy score 0.823342175066313\n",
      "Confuse matrix\n",
      " [[68  0  0  0  0  0  0  0  0  1  0  1  0  1  0  4  0  2  0  3]\n",
      " [ 0 79  3  1  0  5  2  0  0  0  0  1  1  1  1  1  0  1  0  1]\n",
      " [ 0  5 78  6  1  4  2  0  1  0  0  0  1  0  1  0  0  0  0  0]\n",
      " [ 0  4  8 67  4  1  4  1  1  0  0  1  3  2  0  0  0  1  1  0]\n",
      " [ 0  3  2  8 74  1  2  0  0  0  0  0  3  0  0  1  1  1  0  0]\n",
      " [ 0  4  7  3  1 81  0  1  1  1  0  0  0  0  0  0  0  0  0  0]\n",
      " [ 0  0  0  2  2  2 82  4  0  1  1  1  1  1  0  1  0  0  0  0]\n",
      " [ 0  1  0  0  0  0  2 92  0  0  0  0  1  2  1  0  0  0  0  0]\n",
      " [ 0  0  0  0  1  0  3  6 86  1  0  0  0  1  1  0  0  0  1  0]\n",
      " [ 0  1  0  1  0  1  2  0  0 87  4  0  0  3  0  0  0  0  0  0]\n",
      " [ 0  0  0  0  0  0  4  0  0  3 92  0  0  0  0  0  0  0  1  0]\n",
      " [ 0  2  0  1  1  4  2  0  1  2  1 82  0  0  0  0  2  1  0  0]\n",
      " [ 0  4  0  1  1  1  2  4  0  0  0  0 84  0  1  0  0  0  0  0]\n",
      " [ 0  1  0  0  0  0  3  3  2  1  0  1  1 80  3  1  0  2  1  0]\n",
      " [ 1  1  0  0  1  2  2  0  0  0  0  0  0  3 88  1  0  0  0  0]\n",
      " [ 2  3  0  0  1  3  0  0  0  0  1  0  1  0  0 87  0  1  0  1]\n",
      " [ 0  0  0  0  1  1  0  0  0  1  0  1  3  1  1  0 80  1  1  0]\n",
      " [ 0  0  0  0  0  2  0  0  1  2  0  1  1  1  1  1  0 82  2  0]\n",
      " [ 1  0  0  0  0  0  1  0  1  2  1  0  1  1  1  1 11  1 55  0]\n",
      " [ 7  0  0  0  0  0  0  0  0  0  0  2  1  5  1 14  3  1  1 28]]\n"
     ]
    }
   ],
   "source": [
    "# Call to Logistic Regression Model - SAG: solving is based on Stochastic Average Gradient\n",
    "lorg=LogisticRegression(multi_class='multinomial',solver='sag', max_iter=5000)\n",
    "# and train model by Training Dataset\n",
    "lorg.fit(X_train,y_train)\n",
    "# Then Predict the Test data\n",
    "Y_pred=lorg.predict(X_test)\n",
    "# for accuracy\n",
    "print(\"Accuracy score\", accuracy_score(y_test,Y_pred))\n",
    "# for confusion matrix\n",
    "cm=confusion_matrix(y_test,Y_pred)\n",
    "print(\"Confuse matrix\\n\", cm)"
   ]
  },
  {
   "attachments": {},
   "cell_type": "markdown",
   "metadata": {},
   "source": [
    "# Model Logistic Regression Model - newton-cg"
   ]
  },
  {
   "cell_type": "code",
   "execution_count": 25,
   "metadata": {},
   "outputs": [
    {
     "name": "stdout",
     "output_type": "stream",
     "text": [
      "Accuracy score 0.823342175066313\n",
      "Confuse matrix\n",
      " [[68  0  0  0  0  0  0  0  0  1  0  1  0  1  0  4  0  2  0  3]\n",
      " [ 0 79  3  1  0  5  2  0  0  0  0  1  1  1  1  1  0  1  0  1]\n",
      " [ 0  5 78  6  1  4  2  0  1  0  0  0  1  0  1  0  0  0  0  0]\n",
      " [ 0  4  8 67  4  1  4  1  1  0  0  1  3  2  0  0  0  1  1  0]\n",
      " [ 0  3  2  8 74  1  2  0  0  0  0  0  3  0  0  1  1  1  0  0]\n",
      " [ 0  4  7  3  1 81  0  1  1  1  0  0  0  0  0  0  0  0  0  0]\n",
      " [ 0  0  0  2  2  2 82  4  0  1  1  1  1  1  0  1  0  0  0  0]\n",
      " [ 0  1  0  0  0  0  2 92  0  0  0  0  1  2  1  0  0  0  0  0]\n",
      " [ 0  0  0  0  1  0  3  6 86  1  0  0  0  1  1  0  0  0  1  0]\n",
      " [ 0  1  0  1  0  1  2  0  0 87  4  0  0  3  0  0  0  0  0  0]\n",
      " [ 0  0  0  0  0  0  4  0  0  3 92  0  0  0  0  0  0  0  1  0]\n",
      " [ 0  2  0  1  1  4  2  0  1  2  1 82  0  0  0  0  2  1  0  0]\n",
      " [ 0  4  0  1  1  1  2  4  0  0  0  0 84  0  1  0  0  0  0  0]\n",
      " [ 0  1  0  0  0  0  3  3  2  1  0  1  1 80  3  1  0  2  1  0]\n",
      " [ 1  1  0  0  1  2  2  0  0  0  0  0  0  3 88  1  0  0  0  0]\n",
      " [ 2  3  0  0  1  3  0  0  0  0  1  0  1  0  0 87  0  1  0  1]\n",
      " [ 0  0  0  0  1  1  0  0  0  1  0  1  3  1  1  0 80  1  1  0]\n",
      " [ 0  0  0  0  0  2  0  0  1  2  0  1  1  1  1  1  0 82  2  0]\n",
      " [ 1  0  0  0  0  0  1  0  1  2  1  0  1  1  1  1 11  1 55  0]\n",
      " [ 7  0  0  0  0  0  0  0  0  0  0  2  1  5  1 14  3  1  1 28]]\n"
     ]
    }
   ],
   "source": [
    "# Call to Logistic Regression Model - newton-cg: solving is based on Stochastic Average Gradient\n",
    "lorg=LogisticRegression(multi_class='multinomial',solver='newton-cg', max_iter=5000)\n",
    "# and train model by Training Dataset\n",
    "lorg.fit(X_train,y_train)\n",
    "# Then Predict the Test data\n",
    "Y_pred=lorg.predict(X_test)\n",
    "# for accuracy\n",
    "print(\"Accuracy score\", accuracy_score(y_test,Y_pred))\n",
    "# for confusion matrix\n",
    "cm=confusion_matrix(y_test,Y_pred)\n",
    "print(\"Confuse matrix\\n\", cm)"
   ]
  }
 ],
 "metadata": {
  "kernelspec": {
   "display_name": "Python 3",
   "language": "python",
   "name": "python3"
  },
  "language_info": {
   "codemirror_mode": {
    "name": "ipython",
    "version": 3
   },
   "file_extension": ".py",
   "mimetype": "text/x-python",
   "name": "python",
   "nbconvert_exporter": "python",
   "pygments_lexer": "ipython3",
   "version": "3.10.10"
  },
  "orig_nbformat": 4
 },
 "nbformat": 4,
 "nbformat_minor": 2
}
